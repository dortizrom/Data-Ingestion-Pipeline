{
  "nbformat": 4,
  "nbformat_minor": 0,
  "metadata": {
    "colab": {
      "name": "Data Ingestion Pipeline.ipynb",
      "provenance": [],
      "toc_visible": true,
      "authorship_tag": "ABX9TyOJTKcmEbUvbpOxuhvm6pjd",
      "include_colab_link": true
    },
    "kernelspec": {
      "name": "python3",
      "display_name": "Python 3"
    },
    "language_info": {
      "name": "python"
    }
  },
  "cells": [
    {
      "cell_type": "markdown",
      "metadata": {
        "id": "view-in-github",
        "colab_type": "text"
      },
      "source": [
        "<a href=\"https://colab.research.google.com/github/dortizrom/Data-Ingestion-Pipeline/blob/main/Data_Ingestion_Pipeline.ipynb\" target=\"_parent\"><img src=\"https://colab.research.google.com/assets/colab-badge.svg\" alt=\"Open In Colab\"/></a>"
      ]
    },
    {
      "cell_type": "markdown",
      "source": [
        "# **Task:**\n",
        "\n",
        "Take any csv/text file of 2+ GB of your choice. --- (You can do this assignment\n",
        "on Google colab)\n",
        "\n",
        "Read the file ( Present approach of reading the file )\n",
        "\n",
        "Try different methods of file reading eg: Dask, Modin, Ray, pandas and present your findings in term of computational efficiency\n",
        "\n",
        "Perform basic validation on data columns : eg: remove special character , white spaces from the col name\n",
        "\n",
        "As you already know the schema hence create a YAML file and write the column name in YAML file. --define separator of read and write file, column name in YAML\n",
        "\n",
        "Validate number of columns and column name of ingested file with YAML.\n",
        "\n",
        "Write the file in pipe separated text file (|) in gz format.\n",
        "\n",
        "Create a summary of the file:\n",
        "\n",
        "Total number of rows,\n",
        "\n",
        "total number of columns\n",
        "\n",
        "file size"
      ],
      "metadata": {
        "id": "EjS0ltxwkNnn"
      }
    },
    {
      "cell_type": "code",
      "source": [
        "%%writefile testutility.py\n",
        "import logging\n",
        "import os\n",
        "import subprocess\n",
        "import yaml\n",
        "import pandas as pd\n",
        "import datetime \n",
        "import gc\n",
        "import re\n",
        "\n",
        "\n",
        "################\n",
        "# File Reading #\n",
        "################\n",
        "\n",
        "def read_config_file(filepath):\n",
        "    with open(filepath, 'r') as stream:\n",
        "        try:\n",
        "            return yaml.safe_load(stream)\n",
        "        except yaml.YAMLError as exc:\n",
        "            logging.error(exc)\n",
        "\n",
        "\n",
        "def replacer(string, char):\n",
        "    pattern = char + '{2,}'\n",
        "    string = re.sub(pattern, char, string) \n",
        "    return string\n",
        "\n",
        "def col_header_val(df,table_config):\n",
        "    '''\n",
        "    replace whitespaces in the column\n",
        "    and standardized column names\n",
        "    '''\n",
        "    df.columns = df.columns.str.lower()\n",
        "    df.columns = df.columns.str.replace('[^\\w]','_',regex=True)\n",
        "    df.columns = list(map(lambda x: x.strip('_'), list(df.columns)))\n",
        "    df.columns = list(map(lambda x: replacer(x,'_'), list(df.columns)))\n",
        "    expected_col = list(map(lambda x: x.lower(),  table_config['columns']))\n",
        "    expected_col.sort()\n",
        "    df.columns =list(map(lambda x: x.lower(), list(df.columns)))\n",
        "    df = df.reindex(sorted(df.columns), axis=1)\n",
        "    if len(df.columns) == len(expected_col) and list(expected_col)  == list(df.columns):\n",
        "        print(\"column name and column length validation passed\")\n",
        "        return 1\n",
        "    else:\n",
        "        print(\"column name and column length validation failed\")\n",
        "        mismatched_columns_file = list(set(df.columns).difference(expected_col))\n",
        "        print(\"Following File columns are not in the YAML file\",mismatched_columns_file)\n",
        "        missing_YAML_file = list(set(expected_col).difference(df.columns))\n",
        "        print(\"Following YAML columns are not in the file uploaded\",missing_YAML_file)\n",
        "        logging.info(f'df columns: {df.columns}')\n",
        "        logging.info(f'expected columns: {expected_col}')\n",
        "        return 0"
      ],
      "metadata": {
        "colab": {
          "base_uri": "https://localhost:8080/"
        },
        "id": "uLDHkMELkqpc",
        "outputId": "65a45ed9-6d4b-47d7-95e1-81ed052184f0"
      },
      "execution_count": null,
      "outputs": [
        {
          "output_type": "stream",
          "name": "stdout",
          "text": [
            "Writing testutility.py\n"
          ]
        }
      ]
    },
    {
      "cell_type": "code",
      "source": [
        "%%writefile file.yaml\n",
        "file_type: csv\n",
        "dataset_name: testfile\n",
        "file_name: artists\n",
        "table_name: artists\n",
        "inbound_delimiter: \",\"\n",
        "outbound_delimiter: \"|\"\n",
        "skip_leading_rows: 1\n",
        "columns: \n",
        "    - id\n",
        "    - name\n",
        "    - years\n",
        "    - genre\n",
        "    - nationality\n",
        "    - bio\n",
        "    - wikipedia\n",
        "    - paintings"
      ],
      "metadata": {
        "colab": {
          "base_uri": "https://localhost:8080/"
        },
        "id": "qMWrdHiSmDuz",
        "outputId": "5e9ecefa-7136-4931-8939-bfebd99a730d"
      },
      "execution_count": null,
      "outputs": [
        {
          "output_type": "stream",
          "name": "stdout",
          "text": [
            "Overwriting file.yaml\n"
          ]
        }
      ]
    },
    {
      "cell_type": "code",
      "source": [
        "# Read config file\n",
        "import testutility as util\n",
        "config_data = util.read_config_file(\"file.yaml\")"
      ],
      "metadata": {
        "id": "_vU1KUaGtv77"
      },
      "execution_count": null,
      "outputs": []
    },
    {
      "cell_type": "code",
      "source": [
        "config_data['inbound_delimiter']"
      ],
      "metadata": {
        "colab": {
          "base_uri": "https://localhost:8080/",
          "height": 36
        },
        "id": "aaEQVzP_uXFp",
        "outputId": "b1080a35-28fe-470f-ba37-23d59d34d3e6"
      },
      "execution_count": null,
      "outputs": [
        {
          "output_type": "execute_result",
          "data": {
            "text/plain": [
              "','"
            ],
            "application/vnd.google.colaboratory.intrinsic+json": {
              "type": "string"
            }
          },
          "metadata": {},
          "execution_count": 18
        }
      ]
    },
    {
      "cell_type": "code",
      "source": [
        "#inspecting data of config file\n",
        "config_data"
      ],
      "metadata": {
        "colab": {
          "base_uri": "https://localhost:8080/"
        },
        "id": "T36hAY0ZuaZr",
        "outputId": "d8738d49-6865-4179-ed73-49dd37d4d2b3"
      },
      "execution_count": null,
      "outputs": [
        {
          "output_type": "execute_result",
          "data": {
            "text/plain": [
              "{'columns': ['id',\n",
              "  'name',\n",
              "  'years',\n",
              "  'genre',\n",
              "  'nationality',\n",
              "  'bio',\n",
              "  'wikipedia',\n",
              "  'paintings'],\n",
              " 'dataset_name': 'testfile',\n",
              " 'file_name': 'artists',\n",
              " 'file_type': 'csv',\n",
              " 'inbound_delimiter': ',',\n",
              " 'outbound_delimiter': '|',\n",
              " 'skip_leading_rows': 1,\n",
              " 'table_name': 'artists'}"
            ]
          },
          "metadata": {},
          "execution_count": 19
        }
      ]
    },
    {
      "cell_type": "code",
      "source": [
        "# Importing necesary libraries\n",
        "import pandas as pd\n",
        "import time"
      ],
      "metadata": {
        "id": "JU6ySObcud83"
      },
      "execution_count": null,
      "outputs": []
    },
    {
      "cell_type": "code",
      "source": [
        "# Normal reading process of the file\n",
        "df_sample = pd.read_csv(\"artists.csv\",delimiter=',')\n",
        "df_sample.head()"
      ],
      "metadata": {
        "colab": {
          "base_uri": "https://localhost:8080/",
          "height": 337
        },
        "id": "nMQCiCgT0rv5",
        "outputId": "02485de1-fa95-406c-89fd-199b3ab5f860"
      },
      "execution_count": null,
      "outputs": [
        {
          "output_type": "execute_result",
          "data": {
            "text/plain": [
              "   id                name        years                         genre  \\\n",
              "0   0   Amedeo Modigliani  1884 - 1920                 Expressionism   \n",
              "1   1  Vasiliy Kandinskiy  1866 - 1944  Expressionism,Abstractionism   \n",
              "2   2        Diego Rivera  1886 - 1957       Social Realism,Muralism   \n",
              "3   3        Claude Monet  1840 - 1926                 Impressionism   \n",
              "4   4       Rene Magritte  1898 - 1967      Surrealism,Impressionism   \n",
              "\n",
              "  nationality                                                bio  \\\n",
              "0     Italian  Amedeo Clemente Modigliani (Italian pronunciat...   \n",
              "1     Russian  Wassily Wassilyevich Kandinsky (Russian: Васи́...   \n",
              "2     Mexican  Diego María de la Concepción Juan Nepomuceno E...   \n",
              "3      French  Oscar-Claude Monet (; French: [klod mɔnɛ]; 14 ...   \n",
              "4     Belgian  René François Ghislain Magritte (French: [ʁəne...   \n",
              "\n",
              "                                        wikipedia  paintings  \n",
              "0  http://en.wikipedia.org/wiki/Amedeo_Modigliani        193  \n",
              "1  http://en.wikipedia.org/wiki/Wassily_Kandinsky         88  \n",
              "2       http://en.wikipedia.org/wiki/Diego_Rivera         70  \n",
              "3       http://en.wikipedia.org/wiki/Claude_Monet         73  \n",
              "4      http://en.wikipedia.org/wiki/René_Magritte        194  "
            ],
            "text/html": [
              "\n",
              "  <div id=\"df-11b45821-f91a-4f57-ac84-f6e6d0ba1fe3\">\n",
              "    <div class=\"colab-df-container\">\n",
              "      <div>\n",
              "<style scoped>\n",
              "    .dataframe tbody tr th:only-of-type {\n",
              "        vertical-align: middle;\n",
              "    }\n",
              "\n",
              "    .dataframe tbody tr th {\n",
              "        vertical-align: top;\n",
              "    }\n",
              "\n",
              "    .dataframe thead th {\n",
              "        text-align: right;\n",
              "    }\n",
              "</style>\n",
              "<table border=\"1\" class=\"dataframe\">\n",
              "  <thead>\n",
              "    <tr style=\"text-align: right;\">\n",
              "      <th></th>\n",
              "      <th>id</th>\n",
              "      <th>name</th>\n",
              "      <th>years</th>\n",
              "      <th>genre</th>\n",
              "      <th>nationality</th>\n",
              "      <th>bio</th>\n",
              "      <th>wikipedia</th>\n",
              "      <th>paintings</th>\n",
              "    </tr>\n",
              "  </thead>\n",
              "  <tbody>\n",
              "    <tr>\n",
              "      <th>0</th>\n",
              "      <td>0</td>\n",
              "      <td>Amedeo Modigliani</td>\n",
              "      <td>1884 - 1920</td>\n",
              "      <td>Expressionism</td>\n",
              "      <td>Italian</td>\n",
              "      <td>Amedeo Clemente Modigliani (Italian pronunciat...</td>\n",
              "      <td>http://en.wikipedia.org/wiki/Amedeo_Modigliani</td>\n",
              "      <td>193</td>\n",
              "    </tr>\n",
              "    <tr>\n",
              "      <th>1</th>\n",
              "      <td>1</td>\n",
              "      <td>Vasiliy Kandinskiy</td>\n",
              "      <td>1866 - 1944</td>\n",
              "      <td>Expressionism,Abstractionism</td>\n",
              "      <td>Russian</td>\n",
              "      <td>Wassily Wassilyevich Kandinsky (Russian: Васи́...</td>\n",
              "      <td>http://en.wikipedia.org/wiki/Wassily_Kandinsky</td>\n",
              "      <td>88</td>\n",
              "    </tr>\n",
              "    <tr>\n",
              "      <th>2</th>\n",
              "      <td>2</td>\n",
              "      <td>Diego Rivera</td>\n",
              "      <td>1886 - 1957</td>\n",
              "      <td>Social Realism,Muralism</td>\n",
              "      <td>Mexican</td>\n",
              "      <td>Diego María de la Concepción Juan Nepomuceno E...</td>\n",
              "      <td>http://en.wikipedia.org/wiki/Diego_Rivera</td>\n",
              "      <td>70</td>\n",
              "    </tr>\n",
              "    <tr>\n",
              "      <th>3</th>\n",
              "      <td>3</td>\n",
              "      <td>Claude Monet</td>\n",
              "      <td>1840 - 1926</td>\n",
              "      <td>Impressionism</td>\n",
              "      <td>French</td>\n",
              "      <td>Oscar-Claude Monet (; French: [klod mɔnɛ]; 14 ...</td>\n",
              "      <td>http://en.wikipedia.org/wiki/Claude_Monet</td>\n",
              "      <td>73</td>\n",
              "    </tr>\n",
              "    <tr>\n",
              "      <th>4</th>\n",
              "      <td>4</td>\n",
              "      <td>Rene Magritte</td>\n",
              "      <td>1898 - 1967</td>\n",
              "      <td>Surrealism,Impressionism</td>\n",
              "      <td>Belgian</td>\n",
              "      <td>René François Ghislain Magritte (French: [ʁəne...</td>\n",
              "      <td>http://en.wikipedia.org/wiki/René_Magritte</td>\n",
              "      <td>194</td>\n",
              "    </tr>\n",
              "  </tbody>\n",
              "</table>\n",
              "</div>\n",
              "      <button class=\"colab-df-convert\" onclick=\"convertToInteractive('df-11b45821-f91a-4f57-ac84-f6e6d0ba1fe3')\"\n",
              "              title=\"Convert this dataframe to an interactive table.\"\n",
              "              style=\"display:none;\">\n",
              "        \n",
              "  <svg xmlns=\"http://www.w3.org/2000/svg\" height=\"24px\"viewBox=\"0 0 24 24\"\n",
              "       width=\"24px\">\n",
              "    <path d=\"M0 0h24v24H0V0z\" fill=\"none\"/>\n",
              "    <path d=\"M18.56 5.44l.94 2.06.94-2.06 2.06-.94-2.06-.94-.94-2.06-.94 2.06-2.06.94zm-11 1L8.5 8.5l.94-2.06 2.06-.94-2.06-.94L8.5 2.5l-.94 2.06-2.06.94zm10 10l.94 2.06.94-2.06 2.06-.94-2.06-.94-.94-2.06-.94 2.06-2.06.94z\"/><path d=\"M17.41 7.96l-1.37-1.37c-.4-.4-.92-.59-1.43-.59-.52 0-1.04.2-1.43.59L10.3 9.45l-7.72 7.72c-.78.78-.78 2.05 0 2.83L4 21.41c.39.39.9.59 1.41.59.51 0 1.02-.2 1.41-.59l7.78-7.78 2.81-2.81c.8-.78.8-2.07 0-2.86zM5.41 20L4 18.59l7.72-7.72 1.47 1.35L5.41 20z\"/>\n",
              "  </svg>\n",
              "      </button>\n",
              "      \n",
              "  <style>\n",
              "    .colab-df-container {\n",
              "      display:flex;\n",
              "      flex-wrap:wrap;\n",
              "      gap: 12px;\n",
              "    }\n",
              "\n",
              "    .colab-df-convert {\n",
              "      background-color: #E8F0FE;\n",
              "      border: none;\n",
              "      border-radius: 50%;\n",
              "      cursor: pointer;\n",
              "      display: none;\n",
              "      fill: #1967D2;\n",
              "      height: 32px;\n",
              "      padding: 0 0 0 0;\n",
              "      width: 32px;\n",
              "    }\n",
              "\n",
              "    .colab-df-convert:hover {\n",
              "      background-color: #E2EBFA;\n",
              "      box-shadow: 0px 1px 2px rgba(60, 64, 67, 0.3), 0px 1px 3px 1px rgba(60, 64, 67, 0.15);\n",
              "      fill: #174EA6;\n",
              "    }\n",
              "\n",
              "    [theme=dark] .colab-df-convert {\n",
              "      background-color: #3B4455;\n",
              "      fill: #D2E3FC;\n",
              "    }\n",
              "\n",
              "    [theme=dark] .colab-df-convert:hover {\n",
              "      background-color: #434B5C;\n",
              "      box-shadow: 0px 1px 3px 1px rgba(0, 0, 0, 0.15);\n",
              "      filter: drop-shadow(0px 1px 2px rgba(0, 0, 0, 0.3));\n",
              "      fill: #FFFFFF;\n",
              "    }\n",
              "  </style>\n",
              "\n",
              "      <script>\n",
              "        const buttonEl =\n",
              "          document.querySelector('#df-11b45821-f91a-4f57-ac84-f6e6d0ba1fe3 button.colab-df-convert');\n",
              "        buttonEl.style.display =\n",
              "          google.colab.kernel.accessAllowed ? 'block' : 'none';\n",
              "\n",
              "        async function convertToInteractive(key) {\n",
              "          const element = document.querySelector('#df-11b45821-f91a-4f57-ac84-f6e6d0ba1fe3');\n",
              "          const dataTable =\n",
              "            await google.colab.kernel.invokeFunction('convertToInteractive',\n",
              "                                                     [key], {});\n",
              "          if (!dataTable) return;\n",
              "\n",
              "          const docLinkHtml = 'Like what you see? Visit the ' +\n",
              "            '<a target=\"_blank\" href=https://colab.research.google.com/notebooks/data_table.ipynb>data table notebook</a>'\n",
              "            + ' to learn more about interactive tables.';\n",
              "          element.innerHTML = '';\n",
              "          dataTable['output_type'] = 'display_data';\n",
              "          await google.colab.output.renderOutput(dataTable, element);\n",
              "          const docLink = document.createElement('div');\n",
              "          docLink.innerHTML = docLinkHtml;\n",
              "          element.appendChild(docLink);\n",
              "        }\n",
              "      </script>\n",
              "    </div>\n",
              "  </div>\n",
              "  "
            ]
          },
          "metadata": {},
          "execution_count": 51
        }
      ]
    },
    {
      "cell_type": "code",
      "source": [
        "# read the file using config file\n",
        "%%time\n",
        "file_type = config_data['file_type']\n",
        "source_file = \"./\" + config_data['file_name'] + f'.{file_type}'\n",
        "#print(\"\",source_file)\n",
        "df = pd.read_csv(source_file,config_data['inbound_delimiter'])"
      ],
      "metadata": {
        "colab": {
          "base_uri": "https://localhost:8080/"
        },
        "id": "CYutxpD-uhmW",
        "outputId": "1a36083c-00eb-4df2-983f-d5c56a78c92e"
      },
      "execution_count": null,
      "outputs": [
        {
          "output_type": "stream",
          "name": "stdout",
          "text": [
            "CPU times: user 7.02 ms, sys: 383 µs, total: 7.4 ms\n",
            "Wall time: 20.4 ms\n"
          ]
        },
        {
          "output_type": "stream",
          "name": "stderr",
          "text": [
            "/usr/local/lib/python3.7/dist-packages/IPython/core/magics/execution.py:1193: FutureWarning: In a future version of pandas all arguments of read_csv except for the argument 'filepath_or_buffer' will be keyword-only\n",
            "  exec(code, glob, local_ns)\n"
          ]
        }
      ]
    },
    {
      "cell_type": "code",
      "source": [
        "#validate the header of the file\n",
        "util.col_header_val(df,config_data)"
      ],
      "metadata": {
        "colab": {
          "base_uri": "https://localhost:8080/"
        },
        "id": "7JR980Oju-8V",
        "outputId": "ea1b5f6f-08ac-4adc-8873-ace7cc39356a"
      },
      "execution_count": null,
      "outputs": [
        {
          "output_type": "stream",
          "name": "stdout",
          "text": [
            "column name and column length validation passed\n"
          ]
        },
        {
          "output_type": "execute_result",
          "data": {
            "text/plain": [
              "1"
            ]
          },
          "metadata": {},
          "execution_count": 22
        }
      ]
    },
    {
      "cell_type": "code",
      "source": [
        "print(\"columns of files are:\" ,df.columns)\n",
        "print(\"columns of YAML are:\" ,config_data['columns'])"
      ],
      "metadata": {
        "colab": {
          "base_uri": "https://localhost:8080/"
        },
        "id": "tUlgPUDmwnLG",
        "outputId": "33c24cea-207c-4d05-fb26-714f564e7960"
      },
      "execution_count": null,
      "outputs": [
        {
          "output_type": "stream",
          "name": "stdout",
          "text": [
            "columns of files are: Index(['id', 'name', 'years', 'genre', 'nationality', 'bio', 'wikipedia',\n",
            "       'paintings'],\n",
            "      dtype='object')\n",
            "columns of YAML are: ['id', 'name', 'years', 'genre', 'nationality', 'bio', 'wikipedia', 'paintings']\n"
          ]
        }
      ]
    },
    {
      "cell_type": "code",
      "source": [
        "if util.col_header_val(df,config_data)==0:\n",
        "    print(\"validation failed\")\n",
        "    # write code to reject the file\n",
        "else:\n",
        "    print(\"col validation passed\")\n",
        "    # write the code to perform further action\n",
        "    # in the pipleine"
      ],
      "metadata": {
        "colab": {
          "base_uri": "https://localhost:8080/"
        },
        "id": "PB6i6YZ3w3ag",
        "outputId": "8af4d6af-51fe-455e-af4c-df1e89dc816d"
      },
      "execution_count": null,
      "outputs": [
        {
          "output_type": "stream",
          "name": "stdout",
          "text": [
            "column name and column length validation passed\n",
            "col validation passed\n"
          ]
        }
      ]
    }
  ]
}